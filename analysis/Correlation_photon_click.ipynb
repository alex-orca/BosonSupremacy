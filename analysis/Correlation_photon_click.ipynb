{
 "cells": [
  {
   "cell_type": "code",
   "execution_count": 5,
   "metadata": {},
   "outputs": [],
   "source": [
    "import numpy as np\n",
    "import matplotlib.pyplot as plt\n",
    "from itertools import combinations\n",
    "from scipy.special import factorial\n",
    "from thewalrus.quantum import click_cumulant"
   ]
  },
  {
   "cell_type": "code",
   "execution_count": 2,
   "metadata": {},
   "outputs": [],
   "source": [
    "def partition(collection):\n",
    "    if len(collection) == 1:\n",
    "        yield [ collection ]\n",
    "        return\n",
    "\n",
    "    first = collection[0]\n",
    "    for smaller in partition(collection[1:]):\n",
    "        # insert `first` in each of the subpartition's subsets\n",
    "        for n, subset in enumerate(smaller):\n",
    "            yield smaller[:n] + [[ first ] + subset]  + smaller[n+1:]\n",
    "        # put `first` in its own subset \n",
    "        yield [ [ first ] ] + smaller\n",
    "\n",
    "def get_correlation_ideal(V, n_cor = 3, L = 10 ** 4):\n",
    "    M = len(V) // 2 \n",
    "    \n",
    "    first_order = [] \n",
    "    for mode in combinations(np.arange(M), 1):\n",
    "        first_order.append(click_cumulant(np.zeros(2 * M), V, mode)) \n",
    "        \n",
    "    second_order = [] \n",
    "    for mode in combinations(np.arange(M), 2):\n",
    "        second_order.append(click_cumulant(np.zeros(2 * M), V, mode)) \n",
    "\n",
    "    if n_cor == 2:\n",
    "        return first_order, second_order        \n",
    "        \n",
    "    third_order = [] \n",
    "    for seed in range(L):\n",
    "        np.random.seed(seed + 1) \n",
    "        mode = np.sort(np.random.choice(np.arange(M), 3, replace = False))\n",
    "        third_order.append(click_cumulant(np.zeros(2 * M), V, mode)) \n",
    "\n",
    "    return first_order, second_order, third_order\n",
    "\n",
    "def get_correlation_sample(sample, n_cor = 3, L = 10 ** 4):\n",
    "    M = sample.shape[1] \n",
    "    \n",
    "    first_order = [] \n",
    "    for mode in combinations(np.arange(M), 1):\n",
    "        first_order.append(np.average(np.all(sample[:, mode], axis = 1))) \n",
    "        \n",
    "    second_order = [] \n",
    "    for mode in combinations(np.arange(M), 2):\n",
    "        second_order.append(click_cumulant_sample(sample[:, mode])) \n",
    "        \n",
    "    if n_cor == 2:\n",
    "        return first_order, second_order        \n",
    "        \n",
    "    third_order = [] \n",
    "    np.random.seed(1) \n",
    "    for _ in range(L):\n",
    "        mode = np.sort(np.random.choice(np.arange(M), 3, replace = False))\n",
    "        third_order.append(click_cumulant_sample(sample[:, mode])) \n",
    "\n",
    "    return first_order, second_order, third_order\n",
    "\n",
    "def click_cumulant_sample(sample):\n",
    "    modes = list(range(sample.shape[1])) \n",
    "    kappa = 0 \n",
    "    for pi in partition(modes):\n",
    "        size = len(pi)\n",
    "        term = factorial(size - 1) * (-1) ** (size - 1)\n",
    "        for B in pi:\n",
    "            B = list(set(B))  # remove repetitions\n",
    "            summand = np.average(np.all(sample[:, B], axis = 1)) \n",
    "            term *= summand\n",
    "        kappa += term\n",
    "\n",
    "    return kappa"
   ]
  },
  {
   "attachments": {},
   "cell_type": "markdown",
   "metadata": {},
   "source": [
    "# Photon click correlation"
   ]
  },
  {
   "cell_type": "code",
   "execution_count": 3,
   "metadata": {},
   "outputs": [],
   "source": [
    "dir = \"<replace/with/your/own/file/directory>\"\n",
    "cov = np.load(dir + \"cov.npy\")\n",
    "M = len(cov) // 2"
   ]
  },
  {
   "cell_type": "code",
   "execution_count": 18,
   "metadata": {},
   "outputs": [
    {
     "name": "stdout",
     "output_type": "stream",
     "text": [
      "CPU times: user 7.88 s, sys: 9.02 ms, total: 7.89 s\n",
      "Wall time: 7.91 s\n"
     ]
    }
   ],
   "source": [
    "%%time\n",
    "ideal_cor = get_correlation_ideal(cov, n_cor = 2)\n",
    "first_order = np.real(ideal_cor[0])\n",
    "second_order = np.real(ideal_cor[1])\n",
    "#third_order = np.real(ideal_cor[2])"
   ]
  },
  {
   "cell_type": "code",
   "execution_count": 11,
   "metadata": {},
   "outputs": [],
   "source": [
    "d = 4; chi = 1000;\n",
    "samples_MPS = np.load(\"<replace_with_your_MPS_samples.npy>\") \n",
    "samples_exp = np.load(\"<replace_with_experimental_samples.npy>\") "
   ]
  },
  {
   "cell_type": "code",
   "execution_count": 15,
   "metadata": {},
   "outputs": [],
   "source": [
    "MPS_cor = get_correlation_sample(samples_MPS, n_cor = 2, L = 10 ** 4) \n",
    "# n_cor is the order of correlation up to 3rd. And from 3rd, we sample L number of three modes for which we compute the correlation\n",
    "first_order_MPS = np.real(MPS_cor[0])\n",
    "second_order_MPS = np.real(MPS_cor[1])\n",
    "#third_order_MPS = np.real(MPS_cor[2])"
   ]
  },
  {
   "cell_type": "code",
   "execution_count": 16,
   "metadata": {},
   "outputs": [],
   "source": [
    "exp_cor = get_correlation_sample(samples_exp, n_cor = 2)\n",
    "first_order_exp = np.real(exp_cor[0])\n",
    "second_order_exp = np.real(exp_cor[1])\n",
    "#third_order_exp = np.real(exp_cor[2])"
   ]
  },
  {
   "cell_type": "code",
   "execution_count": 17,
   "metadata": {},
   "outputs": [
    {
     "data": {
      "text/plain": [
       "((0.018264187972604314-2.2753004717495404e-18j),\n",
       " (0.036260181483675206-1.6036075573113282e-18j))"
      ]
     },
     "execution_count": 17,
     "metadata": {},
     "output_type": "execute_result"
    }
   ],
   "source": [
    "# Pearson correlation\n",
    "np.corrcoef(second_order, second_order_exp)[0, 1], np.corrcoef(second_order, second_order_MPS)[0, 1]"
   ]
  },
  {
   "cell_type": "code",
   "execution_count": 18,
   "metadata": {},
   "outputs": [
    {
     "data": {
      "text/plain": [
       "(0.00726239703942427, 0.0050680199575781305)"
      ]
     },
     "execution_count": 18,
     "metadata": {},
     "output_type": "execute_result"
    }
   ],
   "source": [
    "# Two-norm\n",
    "np.linalg.norm(second_order - second_order_exp), np.linalg.norm(second_order - second_order_MPS)"
   ]
  },
  {
   "cell_type": "code",
   "execution_count": 17,
   "metadata": {},
   "outputs": [],
   "source": [
    "x1, y1 = np.polyfit(second_order, second_order_exp, 1)\n",
    "x2, y2 = np.polyfit(second_order, second_order_MPS, 1)"
   ]
  },
  {
   "cell_type": "code",
   "execution_count": 18,
   "metadata": {},
   "outputs": [
    {
     "data": {
      "text/plain": [
       "(0.9431676195205885, 0.9432784034131044)"
      ]
     },
     "execution_count": 18,
     "metadata": {},
     "output_type": "execute_result"
    }
   ],
   "source": [
    "# slope\n",
    "x1, x2"
   ]
  },
  {
   "cell_type": "code",
   "execution_count": 19,
   "metadata": {},
   "outputs": [
    {
     "data": {
      "text/plain": [
       "<matplotlib.legend.Legend at 0x7f926e739e20>"
      ]
     },
     "execution_count": 19,
     "metadata": {},
     "output_type": "execute_result"
    },
    {
     "data": {
      "image/png": "[encoded data removed]",
      "text/plain": [
       "<Figure size 640x480 with 1 Axes>"
      ]
     },
     "metadata": {},
     "output_type": "display_data"
    }
   ],
   "source": [
    "t = np.linspace(0, 0.008, 10);\n",
    "plt.scatter(second_order, second_order_exp, label = \"Experiment\", s = 10)\n",
    "plt.scatter(second_order, second_order_MPS, label = f\"MPS $\\chi$={chi}\", s = 10)\n",
    "plt.plot(t, t, color = 'C2', label = \"Ideal\")\n",
    "plt.plot(t, x1 * t + y1, color = 'C0')\n",
    "plt.plot(t, x2 * t + y2, color = 'C1')\n",
    "plt.title(\"Two-point correlation J2-P65-1\", fontsize = 14)\n",
    "plt.xlabel(\"Ideal\", fontsize = 14)\n",
    "plt.ylabel(\"Comparison\", fontsize = 14)\n",
    "plt.xticks(np.linspace(0, 0.008, 3), fontsize = 14)\n",
    "plt.yticks(np.linspace(0, 0.008, 3), fontsize = 14)\n",
    "plt.legend(fontsize = 12)\n",
    "plt.gca().set_aspect('equal')\n",
    "plt.legend()"
   ]
  },
  {
   "cell_type": "code",
   "execution_count": null,
   "metadata": {},
   "outputs": [],
   "source": []
  }
 ],
 "metadata": {
  "kernelspec": {
   "display_name": "Python 3 (ipykernel)",
   "language": "python",
   "name": "python3"
  },
  "language_info": {
   "codemirror_mode": {
    "name": "ipython",
    "version": 3
   },
   "file_extension": ".py",
   "mimetype": "text/x-python",
   "name": "python",
   "nbconvert_exporter": "python",
   "pygments_lexer": "ipython3",
   "version": "3.8.5"
  }
 },
 "nbformat": 4,
 "nbformat_minor": 2
}
